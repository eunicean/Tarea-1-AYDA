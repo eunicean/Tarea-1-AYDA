{
 "cells": [
  {
   "cell_type": "code",
   "execution_count": 3,
   "metadata": {},
   "outputs": [],
   "source": [
    "def busqueda_binaria(arr, left, right, target):\n",
    "    while left <= right:\n",
    "        mid = (left + right) // 2\n",
    "        if arr[mid] == target:\n",
    "            return True\n",
    "        elif arr[mid] < target:\n",
    "            left = mid + 1\n",
    "        else:\n",
    "            right = mid - 1\n",
    "    return False\n"
   ]
  },
  {
   "cell_type": "code",
   "execution_count": 15,
   "metadata": {},
   "outputs": [],
   "source": [
    "def encontrar_si_hay_par(S, x):\n",
    "    n = len(S)\n",
    "    \n",
    "    for i in range(n):\n",
    "        target = x - S[i]\n",
    "        if busqueda_binaria(S, i + 1, n - 1, target):  \n",
    "            return \"Se encotró el par para sumar \" + str(x) + \"\\n   Valores en la lista son: \" + str(S[i]) + \" y \" + str(target)\n",
    "    \n",
    "    return \"No se encontró ningún par\"\n"
   ]
  },
  {
   "cell_type": "code",
   "execution_count": null,
   "metadata": {},
   "outputs": [
    {
     "name": "stdout",
     "output_type": "stream",
     "text": [
      "Se encotró el par para sumar 12\n",
      "   Valores en la lista son: 4 y 8\n",
      "No se encontró ningún par\n"
     ]
    }
   ],
   "source": [
    "S = [1, 3, 4, 6, 8, 10]  # El arreglo está ordenado\n",
    "x = 12\n",
    "\n",
    "print(encontrar_si_hay_par(S, x))\n",
    "\n",
    "x = 20\n",
    "print(encontrar_si_hay_par(S, x)) "
   ]
  }
 ],
 "metadata": {
  "kernelspec": {
   "display_name": "Python 3",
   "language": "python",
   "name": "python3"
  },
  "language_info": {
   "codemirror_mode": {
    "name": "ipython",
    "version": 3
   },
   "file_extension": ".py",
   "mimetype": "text/x-python",
   "name": "python",
   "nbconvert_exporter": "python",
   "pygments_lexer": "ipython3",
   "version": "3.12.4"
  }
 },
 "nbformat": 4,
 "nbformat_minor": 2
}
