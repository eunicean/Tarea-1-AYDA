{
 "cells": [
  {
   "cell_type": "code",
   "execution_count": 30,
   "metadata": {},
   "outputs": [],
   "source": [
    "def naive(coefficients, x):\n",
    "    n = len(coefficients)\n",
    "    result = 0\n",
    "\n",
    "    for i in range(n):\n",
    "        term = coefficients[i]  # ai\n",
    "        power = 1 \n",
    "        for j in range(i):\n",
    "            power *= x\n",
    "        result += term * power\n",
    "    \n",
    "    return result\n"
   ]
  },
  {
   "cell_type": "code",
   "execution_count": 31,
   "metadata": {},
   "outputs": [],
   "source": [
    "def horner(coefficients, x):\n",
    "    y = 0 #variable para resultado\n",
    "\n",
    "    for i in range(len(coefficients) - 1, -1, -1):\n",
    "        y = coefficients[i] + x * y\n",
    "    \n",
    "    return y\n"
   ]
  },
  {
   "cell_type": "code",
   "execution_count": 32,
   "metadata": {},
   "outputs": [],
   "source": [
    "coefficients = [1, -3, 5]  #P(x) = 1 - 3x + 5x^2\n",
    "x = 2"
   ]
  },
  {
   "cell_type": "code",
   "execution_count": 33,
   "metadata": {},
   "outputs": [
    {
     "name": "stdout",
     "output_type": "stream",
     "text": [
      "Resultado con método naïve: 15\n",
      "Resultado con Regla de Horner: 15\n"
     ]
    }
   ],
   "source": [
    "print(\"Resultado con método naïve:\", naive(coefficients, x))\n",
    "\n",
    "print(\"Resultado con Regla de Horner:\", horner(coefficients, x))"
   ]
  }
 ],
 "metadata": {
  "kernelspec": {
   "display_name": "Python 3",
   "language": "python",
   "name": "python3"
  },
  "language_info": {
   "codemirror_mode": {
    "name": "ipython",
    "version": 3
   },
   "file_extension": ".py",
   "mimetype": "text/x-python",
   "name": "python",
   "nbconvert_exporter": "python",
   "pygments_lexer": "ipython3",
   "version": "3.12.4"
  }
 },
 "nbformat": 4,
 "nbformat_minor": 2
}
